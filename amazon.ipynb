{
  "nbformat": 4,
  "nbformat_minor": 0,
  "metadata": {
    "colab": {
      "name": "amazon.ipynb",
      "provenance": [],
      "authorship_tag": "ABX9TyO5v3Kb+jSnGFAsgQlMNsB/",
      "include_colab_link": true
    },
    "kernelspec": {
      "name": "python3",
      "display_name": "Python 3"
    }
  },
  "cells": [
    {
      "cell_type": "markdown",
      "metadata": {
        "id": "view-in-github",
        "colab_type": "text"
      },
      "source": [
        "<a href=\"https://colab.research.google.com/github/realfranser/General-Programming/blob/main/amazon.ipynb\" target=\"_parent\"><img src=\"https://colab.research.google.com/assets/colab-badge.svg\" alt=\"Open In Colab\"/></a>"
      ]
    },
    {
      "cell_type": "code",
      "metadata": {
        "id": "Urm5gOBzNnPG"
      },
      "source": [
        "def amazon(numreviews, repository, customerQuery):\n",
        "  output = []\n",
        "  for x in range(2, len(customerQuery)+1):\n",
        "    output.append([word for word in repository if word[:x]== customerQuery[:x]])\n",
        "  return output"
      ],
      "execution_count": null,
      "outputs": []
    },
    {
      "cell_type": "code",
      "metadata": {
        "colab": {
          "base_uri": "https://localhost:8080/"
        },
        "id": "Zs3Rk4kVP1yE",
        "outputId": "04af3c90-8ebb-466a-a549-ea8d75c7fe66"
      },
      "source": [
        "print(amazon(4, ['hola', 'hoja', 'haja', 'cana'], 'hola'))"
      ],
      "execution_count": null,
      "outputs": [
        {
          "output_type": "stream",
          "text": [
            "[['hola', 'hoja'], ['hola'], ['hola']]\n"
          ],
          "name": "stdout"
        }
      ]
    },
    {
      "cell_type": "code",
      "metadata": {
        "id": "YCa_jdA8Swih"
      },
      "source": [
        "def amazon2(literatureText, wordsToExclude):\n",
        "  listed_words = literatureText.split()\n",
        "  word_dict = {} # word: count\n",
        "\n",
        "  for word in listed_words:\n",
        "    if not word in wordsToExclude:\n",
        "      word_dict[word] = 1 if not word in word_dict else int(word_dict[word]) + 1\n",
        "\n",
        "  best_words = dict(sorted(word_dict.items(), key=lambda item: item[1], reverse = True))\n",
        "  output = [word for word, count in best_words.items() if count >= next(iter(best_words.values()))]\n",
        "\n",
        "  return output\n",
        "    "
      ],
      "execution_count": null,
      "outputs": []
    },
    {
      "cell_type": "code",
      "metadata": {
        "colab": {
          "base_uri": "https://localhost:8080/"
        },
        "id": "uwAXU01oVmTz",
        "outputId": "782da17d-9979-4ef1-eed1-166b7b5a5bb0"
      },
      "source": [
        "print(amazon2(\"jack and jill went to the market to biy bread and cheese cheese is jack favorite food\", [\"and\", \"he\", \"the\", \"to\", \"is\"]))"
      ],
      "execution_count": null,
      "outputs": [
        {
          "output_type": "stream",
          "text": [
            "['jack', 'cheese']\n"
          ],
          "name": "stdout"
        }
      ]
    },
    {
      "cell_type": "code",
      "metadata": {
        "id": "KXuL1761oioL"
      },
      "source": [
        "\"\"\"https://www.youtube.com/watch?v=5o-kdjv7FD0\n",
        "number of ways of climbing staircase\"\"\"\n",
        "def staircase(n):\n",
        "  return 1 if n==0 or n==1 else staircase(n-1) + staircase(n-2)\n",
        "\n",
        "def rec_staircase(total, current):\n",
        "  \n",
        "  if total == current:\n",
        "    return 1\n",
        "  ways = rec_staircase(total, current + 1)\n",
        "  if total > (current + 1):\n",
        "    ways += rec_staircase(total, current + 2)\n",
        "\n",
        "  return ways"
      ],
      "execution_count": null,
      "outputs": []
    },
    {
      "cell_type": "code",
      "metadata": {
        "colab": {
          "base_uri": "https://localhost:8080/"
        },
        "id": "VdU_C4QUrIVT",
        "outputId": "82967fa2-8005-49b2-e8ce-117319e8c0c4"
      },
      "source": [
        "print(staircase(2), staircase(4), staircase(0), staircase(1))"
      ],
      "execution_count": null,
      "outputs": [
        {
          "output_type": "stream",
          "text": [
            "2 5 1 1\n"
          ],
          "name": "stdout"
        }
      ]
    },
    {
      "cell_type": "code",
      "metadata": {
        "id": "k1wl_ESXELJL"
      },
      "source": [
        "\"\"\"Longest Palindrome in a String\n",
        "This solution does not match the O requirements\"\"\"\n",
        "def longest_palindrome(s):\n",
        "  \n",
        "  if s == '':\n",
        "    return ''\n",
        "\n",
        "  if s == s[::-1]:\n",
        "    return s\n",
        "\n",
        "  ll = longest_palindrome(s[1:])\n",
        "  lr = (longest_palindrome(s[:-1]))\n",
        "  \n",
        "  return max([ll, lr], key = len)\n",
        "  "
      ],
      "execution_count": null,
      "outputs": []
    },
    {
      "cell_type": "code",
      "metadata": {
        "colab": {
          "base_uri": "https://localhost:8080/"
        },
        "id": "DgrUsmKGFDrZ",
        "outputId": "2f456e1c-f4c9-4971-9f7c-1ce89dc57bb4"
      },
      "source": [
        "string_1 = 'aaaabbaa'\n",
        "string_2 = 'bb'\n",
        "string_3 = 'ahjkserhfwioregnasdfaasdf'\n",
        "\n",
        "print(longest_palindrome(string_1))\n",
        "print(longest_palindrome(string_2))\n",
        "print(longest_palindrome(string_3))"
      ],
      "execution_count": null,
      "outputs": [
        {
          "output_type": "stream",
          "text": [
            "aabbaa\n",
            "bb\n",
            "aa\n"
          ],
          "name": "stdout"
        }
      ]
    },
    {
      "cell_type": "code",
      "metadata": {
        "id": "YXPS1ebVk3KX"
      },
      "source": [
        "\"\"\"From int to roman numbers (1 to 1000)\"\"\"\n",
        "\n",
        "roman_dict = {\n",
        "    1: 'I',\n",
        "    5: 'V',\n",
        "    10: 'X',\n",
        "    50: 'L',\n",
        "    100: 'C',\n",
        "    500: 'D',\n",
        "    1000: 'M'\n",
        "}\n",
        "\n",
        "def from_int_to_roman(num):\n",
        "  roman = ''\n",
        "  finished = False\n",
        "\n",
        "  while not finished:\n",
        "    for x in len(roman_dict):\n",
        "      if roman_dict.keys()[x] == num:\n",
        "\n"
      ],
      "execution_count": null,
      "outputs": []
    },
    {
      "cell_type": "code",
      "metadata": {
        "id": "8amn7TEuc7fz"
      },
      "source": [
        "\"\"\"Word contained in phone number\n",
        "1 - NADA\n",
        "2 - abc\n",
        "3 - def\n",
        "4 - ghi\n",
        "5 - jkl\n",
        "6 - mno\n",
        "7 - pqrs\n",
        "8 - tuv\n",
        "9 - wxyz\n",
        "0 - NADA\n",
        "\"\"\"\n",
        "\n",
        "phone_dict = {\n",
        "    'abc': 2,\n",
        "    'def': 3,\n",
        "    'ghi': 4,\n",
        "    'jkl': 5,\n",
        "    'mno': 6,\n",
        "    'pqrs': 7,\n",
        "    'tuv': 8,\n",
        "    'wxyz': 9\n",
        "}\n",
        "\n",
        "def find_word(phone, words):\n",
        "  number_list = {}\n",
        "  for word in words:\n",
        "    number_list[word] = word_to_number(word)\n",
        "  return [word for word, number in word_to_number.items() if number in phone]\n",
        "\n",
        "def word_to_number(word):\n",
        "  number = ''\n",
        "  for alpha in word:\n",
        "    for key, value in phone_dict.items():\n",
        "      if key.conatins(alpha):\n",
        "        number = number + str(value)\n",
        "        break\n",
        "\n",
        "  return number"
      ],
      "execution_count": null,
      "outputs": []
    },
    {
      "cell_type": "code",
      "metadata": {
        "id": "kMExvYyUc3dt"
      },
      "source": [
        "\"\"\"first non repeating character\"\"\"\n",
        "\n",
        "def firstNonRepeatingCharacter(s):\n",
        "\n",
        "  while len(s) > 0:\n",
        "    char = s[0]\n",
        "    if char in s[1:]:\n",
        "      s = s.replace(char, '')\n",
        "      continue\n",
        "    return char\n",
        "\n",
        "  return None"
      ],
      "execution_count": 14,
      "outputs": []
    },
    {
      "cell_type": "code",
      "metadata": {
        "colab": {
          "base_uri": "https://localhost:8080/"
        },
        "id": "tk_pii5bdToy",
        "outputId": "f0a0f7cf-7c8e-43f9-bd1f-435a88fb6fae"
      },
      "source": [
        "s1 = \"aaabcccdeeef\"\n",
        "s2 = \"abcbad\"\n",
        "s3 = \"abcabcabc\"\n",
        "\n",
        "# Expected b, c, None\n",
        "\n",
        "print(firstNonRepeatingCharacter(s1))\n",
        "print(firstNonRepeatingCharacter(s2))\n",
        "print(firstNonRepeatingCharacter(s3))"
      ],
      "execution_count": 15,
      "outputs": [
        {
          "output_type": "stream",
          "text": [
            "b\n",
            "c\n",
            "None\n"
          ],
          "name": "stdout"
        }
      ]
    },
    {
      "cell_type": "code",
      "metadata": {
        "id": "wfCYs4peiNCn"
      },
      "source": [
        "\"\"\"Rotten orange problem:\n",
        "0 -> empty cell\n",
        "1 -> fresh orange\n",
        "2 -> rotten orange\n",
        "\n",
        "Every minute, any fresh orange that is adjacent (4-directions) to a rotten orange becomes rotten\n",
        "Return number of minutes in which every orange will be rotten or -1 if it is not possible\n",
        "\"\"\"\n",
        "\n",
        "def rottingOranges(grid):\n",
        "\n",
        "  minute = 0\n",
        "\n",
        "  while True:\n",
        "    i,j = fresh(grid)\n",
        "    if i == -1:\n",
        "      return minute\n",
        "    for x in range(i, len(grid)):\n",
        "      for y in range(j, len(grid[0])):\n",
        "        if grid[x][y] in (0,2):\n",
        "          continue\n",
        "        rottens = False\n",
        "        if x != 0:\n",
        "          rottens = True if grid[x-1][y] == 2 else False\n",
        "        if not rottens and y != 0:\n",
        "          rottens = True if grid[x][y-1] == 2 else False\n",
        "        if not rottens and x < len(grid)-1:\n",
        "          rottens = True if grid[x+1][y] == 2 else False\n",
        "        if not rottens and y < len(grid[0])-1:\n",
        "          rottens = True if grid[x][y+1] == 2 else False\n",
        "        grid[x][y] = 2 if rottens else grid[x][y]\n",
        "    minute += 1\n",
        "\n",
        "  return minute\n",
        "        \n",
        "\n",
        "\n",
        "\n",
        "def fresh(grid):\n",
        "  for i in range(len(grid)):\n",
        "    for j in range(len(grid[0])):\n",
        "      if grid[i][j] == 1:\n",
        "        return i, j\n",
        "  return -1, -1"
      ],
      "execution_count": 25,
      "outputs": []
    },
    {
      "cell_type": "code",
      "metadata": {
        "colab": {
          "base_uri": "https://localhost:8080/"
        },
        "id": "C7skm5dWnK2r",
        "outputId": "8dcb6e3a-eefc-4b31-fb7a-363fde9c9360"
      },
      "source": [
        "grid1 = [[0,0,0], [1,1,1], [1,1,2]]\n",
        "print(rottingOranges(grid1))"
      ],
      "execution_count": 26,
      "outputs": [
        {
          "output_type": "stream",
          "text": [
            "3\n"
          ],
          "name": "stdout"
        }
      ]
    }
  ]
}